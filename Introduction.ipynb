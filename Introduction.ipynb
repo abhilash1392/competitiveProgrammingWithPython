{
 "cells": [
  {
   "cell_type": "markdown",
   "metadata": {},
   "source": [
    "## Manipulation of Lists, n-tuples, Dictionaries"
   ]
  },
  {
   "cell_type": "markdown",
   "metadata": {},
   "source": [
    "### Lists"
   ]
  },
  {
   "cell_type": "code",
   "execution_count": 1,
   "metadata": {},
   "outputs": [
    {
     "data": {
      "text/plain": [
       "[0, 1, 2, 3, 4, 5, 6, 7, 8, 9, 10, 11, 12, 13, 14, 15, 16, 17, 18, 19]"
      ]
     },
     "execution_count": 1,
     "metadata": {},
     "output_type": "execute_result"
    }
   ],
   "source": [
    "L=list(range(20))\n",
    "L"
   ]
  },
  {
   "cell_type": "code",
   "execution_count": 2,
   "metadata": {},
   "outputs": [
    {
     "name": "stdout",
     "output_type": "stream",
     "text": [
      "2\n",
      "[2, 3, 4]\n",
      "[0, 1, 2, 3, 4]\n",
      "[5, 6, 7, 8, 9, 10, 11, 12, 13, 14, 15, 16, 17, 18, 19]\n",
      "[17, 18, 19]\n",
      "[1, 3, 5, 7, 9, 11, 13, 15]\n",
      "[0, 2, 4, 6, 8, 10, 12, 14, 16, 18]\n",
      "[19, 18, 17, 16, 15, 14, 13, 12, 11, 10, 9, 8, 7, 6, 5, 4, 3, 2, 1, 0]\n"
     ]
    }
   ],
   "source": [
    "print(L[2]) #the ith element of L\n",
    "print(L[2:5]) # list of elements for i to j-1\n",
    "print(L[:5]) #the fist j elements\n",
    "print(L[5:]) # all the elements from the ith onwards\n",
    "print(L[-3:]) # the last three elements of L\n",
    "print(L[1:17:2]) #elements from ith upto (but not including) the jth taking only every kth element\n",
    "print(L[::2]) #the elements of L with even indices\n",
    "print(L[::-1]) # a reverse copy of L"
   ]
  },
  {
   "cell_type": "code",
   "execution_count": 3,
   "metadata": {},
   "outputs": [
    {
     "name": "stdout",
     "output_type": "stream",
     "text": [
      "20\n",
      "[0, 1, 2, 3, 4, 5, 6, 7, 8, 9, 10, 11, 12, 13, 14, 15, 16, 17, 18, 19]\n",
      "1\n",
      "True\n",
      "16\n"
     ]
    }
   ],
   "source": [
    "print(len(L)) # Returns the number of elements of the list L O(1)\n",
    "print(sorted(L)) # Returns a sorted copy of the list L O(nlogn)\n",
    "L.sort() #sorts L in place            O(nlogn)\n",
    "print(L.count(15)) # the number of occurences of c in L O(n)\n",
    "print (15 in L) # is the element c found in L? O(n)\n",
    "L.append(16) # append c in the end of L #amortised O(1)\n",
    "print(L.pop()) # extracts and returns the last element of L #ammortised O(1)"
   ]
  },
  {
   "cell_type": "code",
   "execution_count": 4,
   "metadata": {},
   "outputs": [],
   "source": [
    "# Specificities: List and Dictionary Comprehension, Iterators"
   ]
  },
  {
   "cell_type": "code",
   "execution_count": 5,
   "metadata": {},
   "outputs": [
    {
     "data": {
      "text/plain": [
       "[1, 4, 9, 16, 25]"
      ]
     },
     "execution_count": 5,
     "metadata": {},
     "output_type": "execute_result"
    }
   ],
   "source": [
    "n=5\n",
    "squared_numbers=[x **2 for x in range(1,n+1)]\n",
    "squared_numbers"
   ]
  },
  {
   "cell_type": "code",
   "execution_count": 6,
   "metadata": {},
   "outputs": [
    {
     "data": {
      "text/plain": [
       "[0, 0, 0, 0, 0]"
      ]
     },
     "execution_count": 6,
     "metadata": {},
     "output_type": "execute_result"
    }
   ],
   "source": [
    "t = [0 for _ in range(n)]\n",
    "t"
   ]
  },
  {
   "cell_type": "code",
   "execution_count": 7,
   "metadata": {},
   "outputs": [
    {
     "data": {
      "text/plain": [
       "{'c': 0, 'o': 0, 'w': 0, 'b': 0, ' ': 0, 'e': 0, 'p': 0}"
      ]
     },
     "execution_count": 7,
     "metadata": {},
     "output_type": "execute_result"
    }
   ],
   "source": [
    "my_string=\"cowbo bebop\"\n",
    "nb_occurences = {letter:0 for letter in my_string}\n",
    "nb_occurences"
   ]
  },
  {
   "cell_type": "code",
   "execution_count": 8,
   "metadata": {},
   "outputs": [
    {
     "data": {
      "text/plain": [
       "{'c': 0, 'o': 0, 'w': 0, 'b': 0, ' ': 0, 'e': 0, 'p': 0}"
      ]
     },
     "execution_count": 8,
     "metadata": {},
     "output_type": "execute_result"
    }
   ],
   "source": [
    "nb_occurences={}\n",
    "for letter in my_string:\n",
    "    nb_occurences[letter]=0\n",
    "    \n",
    "nb_occurences"
   ]
  },
  {
   "cell_type": "code",
   "execution_count": 9,
   "metadata": {},
   "outputs": [
    {
     "name": "stdout",
     "output_type": "stream",
     "text": [
      "<generator object all_pairs at 0x000001417FB28580>\n"
     ]
    }
   ],
   "source": [
    "def all_pairs(L):\n",
    "    n= len(L)\n",
    "    for i in range(n):\n",
    "        for j in range(i+1,n):\n",
    "            yield (L[i],L[j])\n",
    "            \n",
    "print(all_pairs(L))"
   ]
  },
  {
   "cell_type": "code",
   "execution_count": 10,
   "metadata": {},
   "outputs": [],
   "source": [
    "# Useful Modules and Packages"
   ]
  },
  {
   "cell_type": "code",
   "execution_count": 11,
   "metadata": {},
   "outputs": [
    {
     "name": "stdout",
     "output_type": "stream",
     "text": [
      "2.0\n"
     ]
    }
   ],
   "source": [
    "from math import sqrt\n",
    "print(sqrt(4))"
   ]
  },
  {
   "cell_type": "code",
   "execution_count": 12,
   "metadata": {},
   "outputs": [
    {
     "data": {
      "text/plain": [
       "2.0"
      ]
     },
     "execution_count": 12,
     "metadata": {},
     "output_type": "execute_result"
    }
   ],
   "source": [
    "import math\n",
    "math.sqrt(4)"
   ]
  },
  {
   "cell_type": "code",
   "execution_count": 13,
   "metadata": {},
   "outputs": [
    {
     "name": "stdout",
     "output_type": "stream",
     "text": [
      "Help on package tryalgo:\n",
      "\n",
      "NAME\n",
      "    tryalgo\n",
      "\n",
      "DESCRIPTION\n",
      "    Tryalgo is a python library of algorithms and data structures is implemented\n",
      "    by Christoph Dürr (CNRS, Sorbonne Université, LIP6, Paris)\n",
      "    and Jill-Jênn Vie (RIKEN Center of Advanced Intelligence Project, Tokyo)\n",
      "    It is documented in the book \"Programmation efficace, 128 Algorithmes qu'il\n",
      "    faut avoir compris et codés en Python\", editor Ellipses.\n",
      "\n",
      "PACKAGE CONTENTS\n",
      "    anagrams\n",
      "    arithm\n",
      "    arithm_expr_eval\n",
      "    arithm_expr_target\n",
      "    bellman_ford\n",
      "    bfs\n",
      "    biconnected_components\n",
      "    binary_search\n",
      "    bipartite_matching\n",
      "    bipartite_vertex_cover\n",
      "    closest_points\n",
      "    closest_values\n",
      "    convex_hull\n",
      "    dancing_links\n",
      "    dfs\n",
      "    dijkstra\n",
      "    dilworth\n",
      "    dinic\n",
      "    dist_grid\n",
      "    edmonds_karp\n",
      "    eulerian_tour\n",
      "    fast_exponentiation\n",
      "    fenwick\n",
      "    floyd_warshall\n",
      "    ford_fulkerson\n",
      "    freivalds\n",
      "    gale_shapley\n",
      "    gauss_jordan\n",
      "    graph\n",
      "    graph01\n",
      "    horn_sat\n",
      "    huffman\n",
      "    interval_cover\n",
      "    interval_tree\n",
      "    intervals_union\n",
      "    knapsack\n",
      "    knuth_morris_pratt\n",
      "    knuth_morris_pratt_border\n",
      "    kruskal\n",
      "    kuhn_munkres\n",
      "    kuhn_munkres_n4\n",
      "    laser_mirrors\n",
      "    left_right_inversions\n",
      "    levenshtein\n",
      "    longest_common_subsequence\n",
      "    longest_increasing_subsequence\n",
      "    lowest_common_ancestor\n",
      "    majority\n",
      "    manacher\n",
      "    matrix_chain_mult\n",
      "    max_interval_intersec\n",
      "    merge_ordered_lists\n",
      "    min_mean_cycle\n",
      "    next_permutation\n",
      "    our_heap\n",
      "    our_queue\n",
      "    partition_refinement\n",
      "    permutation_rank\n",
      "    polygon\n",
      "    pq_tree\n",
      "    predictive_text\n",
      "    primes\n",
      "    rabin_karp\n",
      "    range_minimum_query\n",
      "    rectangles_from_grid\n",
      "    rectangles_from_histogram\n",
      "    rectangles_from_points\n",
      "    roman_numbers\n",
      "    scalar\n",
      "    shortest_cycle\n",
      "    skip_list\n",
      "    strongly_connected_components\n",
      "    subsetsum\n",
      "    subsetsum_divide\n",
      "    sudoku\n",
      "    three_partition\n",
      "    topological_order\n",
      "    trie\n",
      "    two_sat\n",
      "    union_rectangles\n",
      "    windows_k_distinct\n",
      "\n",
      "FUNCTIONS\n",
      "    bisect_left(...)\n",
      "        bisect_left(a, x[, lo[, hi]]) -> index\n",
      "        \n",
      "        Return the index where to insert item x in list a, assuming a is sorted.\n",
      "        \n",
      "        The return value i is such that all e in a[:i] have e < x, and all e in\n",
      "        a[i:] have e >= x.  So if x already appears in the list, i points just\n",
      "        before the leftmost x already there.\n",
      "        \n",
      "        Optional args lo (default 0) and hi (default len(a)) bound the\n",
      "        slice of a to be searched.\n",
      "    \n",
      "    bisect_right(...)\n",
      "        bisect_right(a, x[, lo[, hi]]) -> index\n",
      "        \n",
      "        Return the index where to insert item x in list a, assuming a is sorted.\n",
      "        \n",
      "        The return value i is such that all e in a[:i] have e <= x, and all e in\n",
      "        a[i:] have e > x.  So if x already appears in the list, i points just\n",
      "        beyond the rightmost x already there\n",
      "        \n",
      "        Optional args lo (default 0) and hi (default len(a)) bound the\n",
      "        slice of a to be searched.\n",
      "    \n",
      "    getrecursionlimit()\n",
      "        Return the current value of the recursion limit.\n",
      "        \n",
      "        The recursion limit is the maximum depth of the Python interpreter\n",
      "        stack.  This limit prevents infinite recursion from causing an overflow\n",
      "        of the C stack and crashing Python.\n",
      "    \n",
      "    heappop(heap, /)\n",
      "        Pop the smallest item off the heap, maintaining the heap invariant.\n",
      "    \n",
      "    heappush(heap, item, /)\n",
      "        Push item onto heap, maintaining the heap invariant.\n",
      "    \n",
      "    setrecursionlimit(limit, /)\n",
      "        Set the maximum depth of the Python interpreter stack to n.\n",
      "        \n",
      "        This limit prevents infinite recursion from causing an overflow of the C\n",
      "        stack and crashing Python.  The highest possible limit is platform-\n",
      "        dependent.\n",
      "    \n",
      "    sqrt(x, /)\n",
      "        Return the square root of x.\n",
      "\n",
      "DATA\n",
      "    DOMAIN = 128\n",
      "    DOWN = 2\n",
      "    GJ_SEVERAL_SOLUTIONS = 2\n",
      "    GJ_SINGLE_SOLUTION = 1\n",
      "    GJ_ZERO_SOLUTIONS = 0\n",
      "    LEFT = 1\n",
      "    PRIME = 72057594037927931\n",
      "    RIGHT = 3\n",
      "    UP = 0\n",
      "    argv = [r'C:\\Users\\abhilash\\AppData\\Roaming\\Python\\Python38\\site-packa...\n",
      "    ascii_letters = 'abcdefghijklmnopqrstuvwxyzABCDEFGHIJKLMNOPQRSTUVWXYZ'\n",
      "    print_function = _Feature((2, 6, 0, 'alpha', 2), (3, 0, 0, 'alpha', 0)...\n",
      "    priority = {'(': 1, ')': 2, '*': 4, '+': 3, '-': 3, '/': 4, ';': 0}\n",
      "    reflex = [[3, 1], [2, 0], [1, 3], [0, 2]]\n",
      "    roman = [['', 'I', 'II', 'III', 'IV', 'V', 'VI', 'VII', 'VIII', 'IX'],...\n",
      "    stdin = <_io.TextIOWrapper name='<stdin>' mode='r' encoding='cp1252'>\n",
      "\n",
      "FILE\n",
      "    c:\\programdata\\anaconda3\\lib\\site-packages\\tryalgo\\__init__.py\n",
      "\n",
      "\n"
     ]
    }
   ],
   "source": [
    "import tryalgo\n",
    "help(tryalgo)"
   ]
  },
  {
   "cell_type": "code",
   "execution_count": 14,
   "metadata": {},
   "outputs": [
    {
     "name": "stdout",
     "output_type": "stream",
     "text": [
      "Help on module tryalgo.arithm in tryalgo:\n",
      "\n",
      "NAME\n",
      "    tryalgo.arithm\n",
      "\n",
      "DESCRIPTION\n",
      "    # -*- coding: utf-8 -*-\n",
      "    # arithmetic functions\n",
      "    # christoph dürr - jill-jênn vie - 2013-2018\n",
      "\n",
      "FUNCTIONS\n",
      "    bezout(a, b)\n",
      "        Bezout coefficients for a and b\n",
      "        \n",
      "        :param a,b: non-negative integers\n",
      "        :complexity: O(log a + log b)\n",
      "    \n",
      "    binom(n, k)\n",
      "        Binomial coefficients for :math:`n \\choose k`\n",
      "        \n",
      "        :param n,k: non-negative integers\n",
      "        :complexity: O(k)\n",
      "    \n",
      "    binom_modulo(n, k, p)\n",
      "        Binomial coefficients for :math:`n \\choose k`, modulo p\n",
      "        \n",
      "        :param n,k: non-negative integers\n",
      "        :complexity: O(k)\n",
      "    \n",
      "    inv(a, p)\n",
      "        Inverse of a in :math:`{\\mathbb Z}_p`\n",
      "        \n",
      "        :param a,p: non-negative integers\n",
      "        :complexity: O(log a + log p)\n",
      "    \n",
      "    pgcd(a, b)\n",
      "        Greatest common divisor for a and b\n",
      "        \n",
      "        :param a,b: non-negative integers\n",
      "        :complexity: O(log a + log b)\n",
      "\n",
      "FILE\n",
      "    c:\\programdata\\anaconda3\\lib\\site-packages\\tryalgo\\arithm.py\n",
      "\n",
      "\n"
     ]
    }
   ],
   "source": [
    "help(tryalgo.arithm)"
   ]
  },
  {
   "cell_type": "code",
   "execution_count": 15,
   "metadata": {},
   "outputs": [
    {
     "data": {
      "text/plain": [
       "{'a': 2}"
      ]
     },
     "execution_count": 15,
     "metadata": {},
     "output_type": "execute_result"
    }
   ],
   "source": [
    "c={}\n",
    "c['a']=1\n",
    "c['a']+=1\n",
    "c"
   ]
  },
  {
   "cell_type": "code",
   "execution_count": 16,
   "metadata": {},
   "outputs": [],
   "source": [
    "from collections import Counter\n",
    "c=Counter()\n",
    "c['a']+=1 # the key does not exist so it is created"
   ]
  },
  {
   "cell_type": "code",
   "execution_count": 17,
   "metadata": {},
   "outputs": [
    {
     "data": {
      "text/plain": [
       "{'c': 1, 'o': 3, 'w': 1, 'b': 3, 'y': 1, ' ': 1, 'e': 1, 'p': 1}"
      ]
     },
     "execution_count": 17,
     "metadata": {},
     "output_type": "execute_result"
    }
   ],
   "source": [
    "c=dict(Counter('cowboy bebop'))\n",
    "c"
   ]
  },
  {
   "cell_type": "code",
   "execution_count": 18,
   "metadata": {},
   "outputs": [
    {
     "data": {
      "text/plain": [
       "defaultdict(list, {'paris': ['marisille', 'eiffiel tower']})"
      ]
     },
     "execution_count": 18,
     "metadata": {},
     "output_type": "execute_result"
    }
   ],
   "source": [
    "from collections import defaultdict\n",
    "g=defaultdict(list)\n",
    "g['paris'].append('marisille')\n",
    "g['paris'].append('eiffiel tower')\n",
    "g"
   ]
  },
  {
   "cell_type": "code",
   "execution_count": 19,
   "metadata": {},
   "outputs": [],
   "source": [
    "A=[1,2,3,4,5]\n",
    "B=A # This refers to the same object"
   ]
  },
  {
   "cell_type": "code",
   "execution_count": 20,
   "metadata": {},
   "outputs": [
    {
     "data": {
      "text/plain": [
       "5"
      ]
     },
     "execution_count": 20,
     "metadata": {},
     "output_type": "execute_result"
    }
   ],
   "source": [
    "A.pop()"
   ]
  },
  {
   "cell_type": "code",
   "execution_count": 21,
   "metadata": {},
   "outputs": [
    {
     "data": {
      "text/plain": [
       "[1, 2, 3, 4]"
      ]
     },
     "execution_count": 21,
     "metadata": {},
     "output_type": "execute_result"
    }
   ],
   "source": [
    "B # As seen"
   ]
  },
  {
   "cell_type": "code",
   "execution_count": 22,
   "metadata": {},
   "outputs": [],
   "source": [
    "A=[1,2,3,4,5]\n",
    "B=A[:] # This creates a different copy"
   ]
  },
  {
   "cell_type": "code",
   "execution_count": 23,
   "metadata": {},
   "outputs": [
    {
     "data": {
      "text/plain": [
       "5"
      ]
     },
     "execution_count": 23,
     "metadata": {},
     "output_type": "execute_result"
    }
   ],
   "source": [
    "B.pop()"
   ]
  },
  {
   "cell_type": "code",
   "execution_count": 24,
   "metadata": {},
   "outputs": [
    {
     "data": {
      "text/plain": [
       "[1, 2, 3, 4, 5]"
      ]
     },
     "execution_count": 24,
     "metadata": {},
     "output_type": "execute_result"
    }
   ],
   "source": [
    "A"
   ]
  },
  {
   "cell_type": "code",
   "execution_count": 25,
   "metadata": {},
   "outputs": [
    {
     "data": {
      "text/plain": [
       "[1, 2, 3, 4]"
      ]
     },
     "execution_count": 25,
     "metadata": {},
     "output_type": "execute_result"
    }
   ],
   "source": [
    "B"
   ]
  },
  {
   "cell_type": "code",
   "execution_count": 26,
   "metadata": {},
   "outputs": [
    {
     "data": {
      "text/plain": [
       "[[0, 0, 0, 0, 0, 0, 0, 0, 0, 0],\n",
       " [0, 0, 0, 0, 0, 0, 0, 0, 0, 0],\n",
       " [0, 0, 0, 0, 0, 0, 0, 0, 0, 0],\n",
       " [0, 0, 0, 0, 0, 0, 0, 0, 0, 0],\n",
       " [0, 0, 0, 0, 0, 0, 0, 0, 0, 0],\n",
       " [0, 0, 0, 0, 0, 0, 0, 0, 0, 0],\n",
       " [0, 0, 0, 0, 0, 0, 0, 0, 0, 0],\n",
       " [0, 0, 0, 0, 0, 0, 0, 0, 0, 0],\n",
       " [0, 0, 0, 0, 0, 0, 0, 0, 0, 0],\n",
       " [0, 0, 0, 0, 0, 0, 0, 0, 0, 0]]"
      ]
     },
     "execution_count": 26,
     "metadata": {},
     "output_type": "execute_result"
    }
   ],
   "source": [
    "M=[[0]*10]*10\n",
    "M # Do not do this"
   ]
  },
  {
   "cell_type": "code",
   "execution_count": 27,
   "metadata": {},
   "outputs": [
    {
     "data": {
      "text/plain": [
       "[[0, 0, 0, 0, 0, 0, 0, 0, 0, 0],\n",
       " [0, 0, 0, 0, 0, 0, 0, 0, 0, 0],\n",
       " [0, 0, 0, 0, 0, 0, 0, 0, 0, 0],\n",
       " [0, 0, 0, 0, 0, 0, 0, 0, 0, 0],\n",
       " [0, 0, 0, 0, 0, 0, 0, 0, 0, 0],\n",
       " [0, 0, 0, 0, 0, 0, 0, 0, 0, 0],\n",
       " [0, 0, 0, 0, 0, 0, 0, 0, 0, 0],\n",
       " [0, 0, 0, 0, 0, 0, 0, 0, 0, 0],\n",
       " [0, 0, 0, 0, 0, 0, 0, 0, 0, 0],\n",
       " [0, 0, 0, 0, 0, 0, 0, 0, 0, 0]]"
      ]
     },
     "execution_count": 27,
     "metadata": {},
     "output_type": "execute_result"
    }
   ],
   "source": [
    "M=[[0]*10 for _ in range(10)]\n",
    "M"
   ]
  },
  {
   "cell_type": "code",
   "execution_count": 28,
   "metadata": {},
   "outputs": [
    {
     "data": {
      "text/plain": [
       "[[0, 0, 0, 0, 0, 0, 0, 0, 0, 0],\n",
       " [0, 0, 0, 0, 0, 0, 0, 0, 0, 0],\n",
       " [0, 0, 0, 0, 0, 0, 0, 0, 0, 0],\n",
       " [0, 0, 0, 0, 0, 0, 0, 0, 0, 0],\n",
       " [0, 0, 0, 0, 0, 0, 0, 0, 0, 0],\n",
       " [0, 0, 0, 0, 0, 0, 0, 0, 0, 0],\n",
       " [0, 0, 0, 0, 0, 0, 0, 0, 0, 0],\n",
       " [0, 0, 0, 0, 0, 0, 0, 0, 0, 0],\n",
       " [0, 0, 0, 0, 0, 0, 0, 0, 0, 0],\n",
       " [0, 0, 0, 0, 0, 0, 0, 0, 0, 0]]"
      ]
     },
     "execution_count": 28,
     "metadata": {},
     "output_type": "execute_result"
    }
   ],
   "source": [
    "M=[[0 for i in range(10)]for j in range(10)]\n",
    "M"
   ]
  },
  {
   "cell_type": "code",
   "execution_count": 29,
   "metadata": {},
   "outputs": [
    {
     "name": "stdout",
     "output_type": "stream",
     "text": [
      "2\n",
      "paris tokyo 15444\n",
      "new-york singapore 9471\n"
     ]
    },
    {
     "data": {
      "text/plain": [
       "defaultdict(dict, {'paris': {'tokyo': 15444}, 'new-york': {'singapore': 9471}})"
      ]
     },
     "execution_count": 29,
     "metadata": {},
     "output_type": "execute_result"
    }
   ],
   "source": [
    "from collections import defaultdict\n",
    "\n",
    "n=int(input())\n",
    "g=defaultdict(dict)\n",
    "for _ in range(n):\n",
    "    u,v,weight=input().split(' ')\n",
    "    g[u][v]=int(weight)\n",
    "    \n",
    "    \n",
    "g"
   ]
  },
  {
   "cell_type": "code",
   "execution_count": 30,
   "metadata": {},
   "outputs": [
    {
     "name": "stdout",
     "output_type": "stream",
     "text": [
      "True\n"
     ]
    }
   ],
   "source": [
    "from random import randint\n",
    "from sys import stdin\n",
    "def readint():\n",
    "    return int()\n",
    "def readarray(typ):\n",
    "    return list(map(typ, stdin.readline().split()))\n",
    "def readmatrix(n):\n",
    "    M = []\n",
    "    for _ in range(n):\n",
    "        row = readarray(int)\n",
    "        assert len(row) == n\n",
    "        M.append(row)\n",
    "    return M\n",
    "def mult(M, v):\n",
    "    n = len(M)\n",
    "    return [sum(M[i][j] * v[j] for j in range(n)) for i in range(n)]\n",
    "def freivalds(A, B, C):\n",
    "    n = len(A)\n",
    "    x = [randint(0, 1000000) for j in range(n)]\n",
    "    return mult(A, mult(B, x)) == mult(C, x)\n",
    "if __name__ == \"__main__\":\n",
    "    n = readint()\n",
    "    A = readmatrix(n)\n",
    "    B = readmatrix(n)\n",
    "    C = readmatrix(n)\n",
    "    print(freivalds(A, B, C))\n"
   ]
  },
  {
   "cell_type": "code",
   "execution_count": null,
   "metadata": {},
   "outputs": [],
   "source": []
  }
 ],
 "metadata": {
  "kernelspec": {
   "display_name": "Python 3",
   "language": "python",
   "name": "python3"
  },
  "language_info": {
   "codemirror_mode": {
    "name": "ipython",
    "version": 3
   },
   "file_extension": ".py",
   "mimetype": "text/x-python",
   "name": "python",
   "nbconvert_exporter": "python",
   "pygments_lexer": "ipython3",
   "version": "3.8.5"
  }
 },
 "nbformat": 4,
 "nbformat_minor": 4
}
